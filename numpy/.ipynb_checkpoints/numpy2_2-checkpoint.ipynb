{
 "cells": [
  {
   "cell_type": "markdown",
   "id": "023df0f1",
   "metadata": {},
   "source": [
    "### Copies and views"
   ]
  },
  {
   "cell_type": "code",
   "execution_count": 1,
   "id": "dc7e979d",
   "metadata": {},
   "outputs": [],
   "source": [
    "import numpy as np"
   ]
  },
  {
   "cell_type": "code",
   "execution_count": 2,
   "id": "2fe67f1c",
   "metadata": {},
   "outputs": [
    {
     "data": {
      "text/plain": [
       "array([1111, 1212, 1313, 1414, 1515, 1616, 1717, 1818])"
      ]
     },
     "execution_count": 2,
     "metadata": {},
     "output_type": "execute_result"
    }
   ],
   "source": [
    "students_ids_number=np.array([1111,1212,1313,1414,1515,1616,1717,1818])\n",
    "students_ids_number"
   ]
  },
  {
   "cell_type": "code",
   "execution_count": 3,
   "id": "cc834eff",
   "metadata": {},
   "outputs": [
    {
     "name": "stdout",
     "output_type": "stream",
     "text": [
      "id of students_ids_number 2415480649088\n",
      "id of students_ids_number_reg 2415480649088\n"
     ]
    }
   ],
   "source": [
    "students_ids_number_reg=students_ids_number\n",
    "print(\"id of students_ids_number\",id(students_ids_number))\n",
    "print(\"id of students_ids_number_reg\",id(students_ids_number_reg))"
   ]
  },
  {
   "cell_type": "code",
   "execution_count": 4,
   "id": "5a8ad3a9",
   "metadata": {},
   "outputs": [
    {
     "name": "stdout",
     "output_type": "stream",
     "text": [
      "[1111 2222 1313 1414 1515 1616 1717 1818]\n",
      "[1111 2222 1313 1414 1515 1616 1717 1818]\n"
     ]
    }
   ],
   "source": [
    "students_ids_number_reg[1]=2222\n",
    "print(students_ids_number)\n",
    "print(students_ids_number_reg)"
   ]
  },
  {
   "cell_type": "code",
   "execution_count": 5,
   "id": "bc0120e0",
   "metadata": {},
   "outputs": [],
   "source": [
    "students_ids_number_cp=students_ids_number.copy()"
   ]
  },
  {
   "cell_type": "code",
   "execution_count": 6,
   "id": "b0d97ec6",
   "metadata": {},
   "outputs": [
    {
     "name": "stdout",
     "output_type": "stream",
     "text": [
      "[1111 2222 1313 1414 1515 1616 1717 1818]\n"
     ]
    }
   ],
   "source": [
    "print(students_ids_number_cp)"
   ]
  },
  {
   "cell_type": "code",
   "execution_count": 7,
   "id": "7c9e8f5c",
   "metadata": {},
   "outputs": [
    {
     "name": "stdout",
     "output_type": "stream",
     "text": [
      "[ True  True  True  True  True  True  True  True]\n"
     ]
    }
   ],
   "source": [
    "print(students_ids_number_cp==students_ids_number)"
   ]
  },
  {
   "cell_type": "code",
   "execution_count": 8,
   "id": "97df2450",
   "metadata": {},
   "outputs": [
    {
     "name": "stdout",
     "output_type": "stream",
     "text": [
      "id of students_ids_number 2415480649088\n",
      "id of students_ids_number_cp 2415480725872\n"
     ]
    }
   ],
   "source": [
    "print (\"id of students_ids_number\",id(students_ids_number))\n",
    "print(\"id of students_ids_number_cp\",id(students_ids_number_cp))"
   ]
  },
  {
   "cell_type": "code",
   "execution_count": 9,
   "id": "77e23745",
   "metadata": {},
   "outputs": [
    {
     "name": "stdout",
     "output_type": "stream",
     "text": [
      "original:  [1000 2222 1313 1414 1515 1616 1717 1818]\n",
      "copy:  [1111 2222 1313 1414 1515 1616 1717 1818]\n"
     ]
    }
   ],
   "source": [
    "students_ids_number[0]=1000\n",
    "print (\"original: \", students_ids_number)\n",
    "print(\"copy: \",students_ids_number_cp)"
   ]
  },
  {
   "cell_type": "code",
   "execution_count": 10,
   "id": "59ba9ed6",
   "metadata": {},
   "outputs": [],
   "source": [
    "students_ids_number_v=students_ids_number.view()"
   ]
  },
  {
   "cell_type": "code",
   "execution_count": 11,
   "id": "96d7e73f",
   "metadata": {},
   "outputs": [
    {
     "name": "stdout",
     "output_type": "stream",
     "text": [
      "original:  [2000 2222 1313 1414 1515 1616 1717 1818]\n",
      "view: [2000 2222 1313 1414 1515 1616 1717 1818]\n"
     ]
    }
   ],
   "source": [
    "students_ids_number_v[0]=2000\n",
    "print(\"original: \", students_ids_number)\n",
    "print(\"view:\",students_ids_number_v)"
   ]
  },
  {
   "cell_type": "code",
   "execution_count": 17,
   "id": "792ef847",
   "metadata": {},
   "outputs": [
    {
     "name": "stdout",
     "output_type": "stream",
     "text": [
      "None\n",
      "[2000 2222 1313 1414 1515 1616 1717 1818]\n"
     ]
    }
   ],
   "source": [
    "print(students_ids_number_cp.base)\n",
    "print(students_ids_number_v.base)"
   ]
  },
  {
   "cell_type": "code",
   "execution_count": null,
   "id": "64602443",
   "metadata": {},
   "outputs": [],
   "source": []
  },
  {
   "cell_type": "code",
   "execution_count": null,
   "id": "d4675a41",
   "metadata": {},
   "outputs": [],
   "source": []
  }
 ],
 "metadata": {
  "kernelspec": {
   "display_name": "Python 3",
   "language": "python",
   "name": "python3"
  },
  "language_info": {
   "codemirror_mode": {
    "name": "ipython",
    "version": 3
   },
   "file_extension": ".py",
   "mimetype": "text/x-python",
   "name": "python",
   "nbconvert_exporter": "python",
   "pygments_lexer": "ipython3",
   "version": "3.6.8"
  }
 },
 "nbformat": 4,
 "nbformat_minor": 5
}
