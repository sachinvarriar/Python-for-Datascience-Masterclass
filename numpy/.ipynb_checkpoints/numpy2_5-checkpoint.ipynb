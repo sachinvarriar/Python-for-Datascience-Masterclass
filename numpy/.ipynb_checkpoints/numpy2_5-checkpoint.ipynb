{
 "cells": [
  {
   "cell_type": "markdown",
   "id": "8181e8bd",
   "metadata": {},
   "source": [
    "### Joining and splitting ararys"
   ]
  },
  {
   "cell_type": "code",
   "execution_count": 1,
   "id": "32f63c5f",
   "metadata": {},
   "outputs": [],
   "source": [
    "import numpy as np"
   ]
  },
  {
   "cell_type": "code",
   "execution_count": 2,
   "id": "48a42fd9",
   "metadata": {},
   "outputs": [
    {
     "name": "stdout",
     "output_type": "stream",
     "text": [
      "first_arr [ 1  2  3  4  5  6  7  8  9 10]\n",
      "second_arr [11 12 13 14 15 16 17 18 19 20]\n"
     ]
    }
   ],
   "source": [
    "first_arr=np.arange(1,11)\n",
    "second_arr=np.arange(11,21)\n",
    "print(\"first_arr\",first_arr)\n",
    "print(\"second_arr\",second_arr)"
   ]
  },
  {
   "cell_type": "code",
   "execution_count": 3,
   "id": "a6916302",
   "metadata": {},
   "outputs": [
    {
     "data": {
      "text/plain": [
       "array([ 1,  2,  3,  4,  5,  6,  7,  8,  9, 10, 11, 12, 13, 14, 15, 16, 17,\n",
       "       18, 19, 20])"
      ]
     },
     "execution_count": 3,
     "metadata": {},
     "output_type": "execute_result"
    }
   ],
   "source": [
    "con_arr=np.concatenate((first_arr,second_arr))\n",
    "con_arr"
   ]
  },
  {
   "cell_type": "code",
   "execution_count": 4,
   "id": "7d1e7a8b",
   "metadata": {},
   "outputs": [
    {
     "data": {
      "text/plain": [
       "array([[ 1,  2,  3,  4,  5],\n",
       "       [ 6,  7,  8,  9, 10]])"
      ]
     },
     "execution_count": 4,
     "metadata": {},
     "output_type": "execute_result"
    }
   ],
   "source": [
    "third_2darr=np.array([[1,2,3,4,5], [6,7,8,9,10]])\n",
    "third_2darr\n"
   ]
  },
  {
   "cell_type": "code",
   "execution_count": 5,
   "id": "0a1ec7d0",
   "metadata": {},
   "outputs": [
    {
     "data": {
      "text/plain": [
       "array([[11, 12, 13, 14, 15],\n",
       "       [16, 17, 18, 19, 20]])"
      ]
     },
     "execution_count": 5,
     "metadata": {},
     "output_type": "execute_result"
    }
   ],
   "source": [
    "fourth_2darr=np.array([[11,12,13,14,15], [16,17,18,19,20]])\n",
    "fourth_2darr"
   ]
  },
  {
   "cell_type": "code",
   "execution_count": 6,
   "id": "fd04548d",
   "metadata": {},
   "outputs": [
    {
     "data": {
      "text/plain": [
       "array([[ 1,  2,  3,  4,  5, 11, 12, 13, 14, 15],\n",
       "       [ 6,  7,  8,  9, 10, 16, 17, 18, 19, 20]])"
      ]
     },
     "execution_count": 6,
     "metadata": {},
     "output_type": "execute_result"
    }
   ],
   "source": [
    "con2d_arr = np.concatenate((third_2darr,fourth_2darr),axis=1)\n",
    "con2d_arr"
   ]
  },
  {
   "cell_type": "code",
   "execution_count": 7,
   "id": "3529a8d6",
   "metadata": {},
   "outputs": [
    {
     "data": {
      "text/plain": [
       "array([[ 1,  2,  3,  4,  5,  6,  7,  8,  9, 10],\n",
       "       [11, 12, 13, 14, 15, 16, 17, 18, 19, 20]])"
      ]
     },
     "execution_count": 7,
     "metadata": {},
     "output_type": "execute_result"
    }
   ],
   "source": [
    "st_arr = np.stack((first_arr,second_arr))\n",
    "st_arr "
   ]
  },
  {
   "cell_type": "code",
   "execution_count": 8,
   "id": "7e63b42d",
   "metadata": {},
   "outputs": [
    {
     "data": {
      "text/plain": [
       "array([ 1,  2,  3,  4,  5,  6,  7,  8,  9, 10, 11, 12, 13, 14, 15, 16, 17,\n",
       "       18, 19, 20])"
      ]
     },
     "execution_count": 8,
     "metadata": {},
     "output_type": "execute_result"
    }
   ],
   "source": [
    "hst_arr=np.hstack((first_arr,second_arr))\n",
    "hst_arr"
   ]
  },
  {
   "cell_type": "code",
   "execution_count": 9,
   "id": "1ef6da94",
   "metadata": {},
   "outputs": [
    {
     "data": {
      "text/plain": [
       "array([[ 1,  2,  3,  4,  5,  6,  7,  8,  9, 10],\n",
       "       [11, 12, 13, 14, 15, 16, 17, 18, 19, 20]])"
      ]
     },
     "execution_count": 9,
     "metadata": {},
     "output_type": "execute_result"
    }
   ],
   "source": [
    "vst_arr=np.vstack((first_arr,second_arr))\n",
    "vst_arr"
   ]
  },
  {
   "cell_type": "code",
   "execution_count": 10,
   "id": "12e0fd31",
   "metadata": {},
   "outputs": [
    {
     "data": {
      "text/plain": [
       "array([ 1,  2,  3,  4,  5,  6,  7,  8,  9, 10, 11, 12])"
      ]
     },
     "execution_count": 10,
     "metadata": {},
     "output_type": "execute_result"
    }
   ],
   "source": [
    "fifth_arr=np.arange(1,13)\n",
    "fifth_arr"
   ]
  },
  {
   "cell_type": "code",
   "execution_count": 11,
   "id": "132ee02f",
   "metadata": {},
   "outputs": [
    {
     "data": {
      "text/plain": [
       "[array([1, 2, 3]), array([4, 5, 6]), array([7, 8, 9]), array([10, 11, 12])]"
      ]
     },
     "execution_count": 11,
     "metadata": {},
     "output_type": "execute_result"
    }
   ],
   "source": [
    "sp_arr=np.array_split(fifth_arr,4)\n",
    "sp_arr"
   ]
  },
  {
   "cell_type": "code",
   "execution_count": 12,
   "id": "85691c66",
   "metadata": {},
   "outputs": [
    {
     "name": "stdout",
     "output_type": "stream",
     "text": [
      "[4 5 6]\n"
     ]
    }
   ],
   "source": [
    "print(sp_arr[1])"
   ]
  },
  {
   "cell_type": "code",
   "execution_count": 13,
   "id": "66339ad7",
   "metadata": {},
   "outputs": [
    {
     "data": {
      "text/plain": [
       "[array([1, 2]),\n",
       " array([3, 4]),\n",
       " array([5, 6]),\n",
       " array([7, 8]),\n",
       " array([9]),\n",
       " array([10]),\n",
       " array([11]),\n",
       " array([12])]"
      ]
     },
     "execution_count": 13,
     "metadata": {},
     "output_type": "execute_result"
    }
   ],
   "source": [
    "sp_arr=np.array_split(fifth_arr,8)\n",
    "sp_arr"
   ]
  },
  {
   "cell_type": "code",
   "execution_count": 14,
   "id": "f0b314b2",
   "metadata": {},
   "outputs": [
    {
     "data": {
      "text/plain": [
       "[array([[1],\n",
       "        [6]]),\n",
       " array([[2],\n",
       "        [7]]),\n",
       " array([[3],\n",
       "        [8]]),\n",
       " array([[4],\n",
       "        [9]]),\n",
       " array([[ 5],\n",
       "        [10]])]"
      ]
     },
     "execution_count": 14,
     "metadata": {},
     "output_type": "execute_result"
    }
   ],
   "source": [
    "np.hsplit(third_2darr,5)\n"
   ]
  },
  {
   "cell_type": "code",
   "execution_count": 16,
   "id": "6b8915e6",
   "metadata": {},
   "outputs": [
    {
     "data": {
      "text/plain": [
       "[array([[1, 2, 3, 4, 5]]), array([[ 6,  7,  8,  9, 10]])]"
      ]
     },
     "execution_count": 16,
     "metadata": {},
     "output_type": "execute_result"
    }
   ],
   "source": [
    "vs_arr=np.vsplit(third_2darr,2)\n",
    "vs_arr"
   ]
  },
  {
   "cell_type": "code",
   "execution_count": 19,
   "id": "4b6bb725",
   "metadata": {},
   "outputs": [
    {
     "data": {
      "text/plain": [
       "array([[1, 2, 3, 4, 5]])"
      ]
     },
     "execution_count": 19,
     "metadata": {},
     "output_type": "execute_result"
    }
   ],
   "source": [
    "vs_arr[0]"
   ]
  },
  {
   "cell_type": "code",
   "execution_count": null,
   "id": "332a8ad8",
   "metadata": {},
   "outputs": [],
   "source": []
  }
 ],
 "metadata": {
  "kernelspec": {
   "display_name": "Python 3",
   "language": "python",
   "name": "python3"
  },
  "language_info": {
   "codemirror_mode": {
    "name": "ipython",
    "version": 3
   },
   "file_extension": ".py",
   "mimetype": "text/x-python",
   "name": "python",
   "nbconvert_exporter": "python",
   "pygments_lexer": "ipython3",
   "version": "3.6.8"
  }
 },
 "nbformat": 4,
 "nbformat_minor": 5
}
