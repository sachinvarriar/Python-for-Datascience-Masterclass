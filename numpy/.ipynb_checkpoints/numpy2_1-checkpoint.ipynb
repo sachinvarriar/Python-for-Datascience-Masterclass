{
 "cells": [
  {
   "cell_type": "markdown",
   "id": "9d92be76",
   "metadata": {},
   "source": [
    "### Adding, removing and sorting elements"
   ]
  },
  {
   "cell_type": "code",
   "execution_count": 1,
   "id": "3046c585",
   "metadata": {},
   "outputs": [],
   "source": [
    "import numpy as np"
   ]
  },
  {
   "cell_type": "code",
   "execution_count": 2,
   "id": "da9c5d40",
   "metadata": {},
   "outputs": [
    {
     "data": {
      "text/plain": [
       "array([1, 2, 3, 5])"
      ]
     },
     "execution_count": 2,
     "metadata": {},
     "output_type": "execute_result"
    }
   ],
   "source": [
    "first_arr=np.array([1, 2, 3, 5])\n",
    "first_arr"
   ]
  },
  {
   "cell_type": "code",
   "execution_count": 3,
   "id": "e59e932e",
   "metadata": {},
   "outputs": [
    {
     "data": {
      "text/plain": [
       "array([1, 2, 3, 4, 5])"
      ]
     },
     "execution_count": 3,
     "metadata": {},
     "output_type": "execute_result"
    }
   ],
   "source": [
    "new_first_arr=np.insert(first_arr,3,4)\n",
    "new_first_arr"
   ]
  },
  {
   "cell_type": "code",
   "execution_count": 4,
   "id": "d72c40e4",
   "metadata": {},
   "outputs": [
    {
     "data": {
      "text/plain": [
       "array([1, 2, 3, 4])"
      ]
     },
     "execution_count": 4,
     "metadata": {},
     "output_type": "execute_result"
    }
   ],
   "source": [
    "second_arr=np.array([1,2,3,4])\n",
    "second_arr"
   ]
  },
  {
   "cell_type": "code",
   "execution_count": 5,
   "id": "7af2f59d",
   "metadata": {},
   "outputs": [
    {
     "data": {
      "text/plain": [
       "array([1, 2, 3, 4, 5])"
      ]
     },
     "execution_count": 5,
     "metadata": {},
     "output_type": "execute_result"
    }
   ],
   "source": [
    "new_second_arr=np.append(second_arr,5)\n",
    "new_second_arr"
   ]
  },
  {
   "cell_type": "code",
   "execution_count": 6,
   "id": "17748625",
   "metadata": {},
   "outputs": [
    {
     "data": {
      "text/plain": [
       "array([1, 2, 3, 4, 5])"
      ]
     },
     "execution_count": 6,
     "metadata": {},
     "output_type": "execute_result"
    }
   ],
   "source": [
    "third_arr=np.array([1,2,3,4,5])\n",
    "third_arr"
   ]
  },
  {
   "cell_type": "code",
   "execution_count": 7,
   "id": "aed10edc",
   "metadata": {},
   "outputs": [
    {
     "data": {
      "text/plain": [
       "array([1, 2, 3, 4])"
      ]
     },
     "execution_count": 7,
     "metadata": {},
     "output_type": "execute_result"
    }
   ],
   "source": [
    "del_arr=np.delete(third_arr,4)\n",
    "del_arr"
   ]
  },
  {
   "cell_type": "code",
   "execution_count": 8,
   "id": "003c0fac",
   "metadata": {},
   "outputs": [
    {
     "data": {
      "text/plain": [
       "array([11,  2,  8, 18, 18, 18, 10, 11, 10,  0, 15,  3, 18, 18, 10, 14,  2,\n",
       "       11, 17, 10])"
      ]
     },
     "execution_count": 8,
     "metadata": {},
     "output_type": "execute_result"
    }
   ],
   "source": [
    "integers_arr=np.random.randint(0,20,20)\n",
    "integers_arr"
   ]
  },
  {
   "cell_type": "code",
   "execution_count": 9,
   "id": "024b7cdd",
   "metadata": {},
   "outputs": [
    {
     "name": "stdout",
     "output_type": "stream",
     "text": [
      "[ 0  2  2  3  8 10 10 10 10 11 11 11 14 15 17 18 18 18 18 18]\n"
     ]
    }
   ],
   "source": [
    "print(np.sort(integers_arr))"
   ]
  },
  {
   "cell_type": "code",
   "execution_count": 10,
   "id": "3d82cbc0",
   "metadata": {},
   "outputs": [
    {
     "data": {
      "text/plain": [
       "array([[3, 2, 5, 7, 4],\n",
       "       [5, 0, 8, 3, 1]])"
      ]
     },
     "execution_count": 10,
     "metadata": {},
     "output_type": "execute_result"
    }
   ],
   "source": [
    "integers_2dim_arr=np.array([[3, 2, 5,7, 4], [5, 0, 8,3, 1]])\n",
    "integers_2dim_arr"
   ]
  },
  {
   "cell_type": "code",
   "execution_count": 11,
   "id": "82a57eae",
   "metadata": {},
   "outputs": [
    {
     "name": "stdout",
     "output_type": "stream",
     "text": [
      "[[2 3 4 5 7]\n",
      " [0 1 3 5 8]]\n"
     ]
    }
   ],
   "source": [
    "print(np.sort(integers_2dim_arr))"
   ]
  },
  {
   "cell_type": "code",
   "execution_count": 12,
   "id": "80c35b02",
   "metadata": {},
   "outputs": [
    {
     "data": {
      "text/plain": [
       "array(['orange', 'green', 'yellow', 'white', 'black', 'pink', 'blue',\n",
       "       'red'], dtype='<U6')"
      ]
     },
     "execution_count": 12,
     "metadata": {},
     "output_type": "execute_result"
    }
   ],
   "source": [
    "colors=np.array(['orange','green','yellow','white','black','pink','blue','red'])\n",
    "colors"
   ]
  },
  {
   "cell_type": "code",
   "execution_count": 13,
   "id": "8aaf41de",
   "metadata": {},
   "outputs": [
    {
     "name": "stdout",
     "output_type": "stream",
     "text": [
      "['black' 'blue' 'green' 'orange' 'pink' 'red' 'white' 'yellow']\n"
     ]
    }
   ],
   "source": [
    "print(np.sort(colors))"
   ]
  },
  {
   "cell_type": "code",
   "execution_count": null,
   "id": "2aded5cf",
   "metadata": {},
   "outputs": [],
   "source": []
  }
 ],
 "metadata": {
  "kernelspec": {
   "display_name": "Python 3",
   "language": "python",
   "name": "python3"
  },
  "language_info": {
   "codemirror_mode": {
    "name": "ipython",
    "version": 3
   },
   "file_extension": ".py",
   "mimetype": "text/x-python",
   "name": "python",
   "nbconvert_exporter": "python",
   "pygments_lexer": "ipython3",
   "version": "3.6.8"
  }
 },
 "nbformat": 4,
 "nbformat_minor": 5
}
