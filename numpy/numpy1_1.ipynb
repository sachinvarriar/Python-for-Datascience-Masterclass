{
 "cells": [
  {
   "cell_type": "markdown",
   "id": "09ab794e",
   "metadata": {},
   "source": [
    "# numpy tutorials"
   ]
  },
  {
   "cell_type": "markdown",
   "id": "96960b2f",
   "metadata": {},
   "source": [
    "Numpy is the fundamental building block of many of the later developed python packages for data science and other scientific applciations. Numpy is primarily concerned with array operations and will come as a handy tool while manipulating many of the text arrays, strings and documents that we will be operating on. \n",
    "\n",
    "The advantage of using numpy over python tupples and lists is that numpy arrays occupy less RAM as compared to vanilla python lists/tupples. In addition to this, use of numpy operations is a great and faster replacement for python 'for' loops"
   ]
  },
  {
   "cell_type": "markdown",
   "id": "a58681a7",
   "metadata": {},
   "source": [
    "Lets begin by importing the preinstalled numpy package and trying to create our first numpy array"
   ]
  },
  {
   "cell_type": "code",
   "execution_count": 1,
   "id": "6c099392",
   "metadata": {},
   "outputs": [
    {
     "name": "stdout",
     "output_type": "stream",
     "text": [
      "[ 0  1  2  3  4  5  6  7  8  9 10 11 12 13 14 15 16 17 18 19]\n"
     ]
    }
   ],
   "source": [
    "import numpy as np\n",
    "a=np.arange(20)\n",
    "print(a)"
   ]
  },
  {
   "cell_type": "code",
   "execution_count": 2,
   "id": "da9a5f14",
   "metadata": {},
   "outputs": [
    {
     "name": "stdout",
     "output_type": "stream",
     "text": [
      "[[ 0  1  2  3]\n",
      " [ 4  5  6  7]\n",
      " [ 8  9 10 11]\n",
      " [12 13 14 15]\n",
      " [16 17 18 19]]\n"
     ]
    }
   ],
   "source": [
    "a=np.arange(20).reshape(5,4)\n",
    "print(a)"
   ]
  },
  {
   "cell_type": "markdown",
   "id": "69a6fc39",
   "metadata": {},
   "source": [
    "Let us now understand some of the attributes of the above numpy array"
   ]
  },
  {
   "cell_type": "code",
   "execution_count": 3,
   "id": "ac55f81a",
   "metadata": {},
   "outputs": [
    {
     "data": {
      "text/plain": [
       "(5, 4)"
      ]
     },
     "execution_count": 3,
     "metadata": {},
     "output_type": "execute_result"
    }
   ],
   "source": [
    "a.shape"
   ]
  },
  {
   "cell_type": "code",
   "execution_count": 4,
   "id": "f84814c1",
   "metadata": {},
   "outputs": [
    {
     "data": {
      "text/plain": [
       "2"
      ]
     },
     "execution_count": 4,
     "metadata": {},
     "output_type": "execute_result"
    }
   ],
   "source": [
    "a.ndim"
   ]
  },
  {
   "cell_type": "code",
   "execution_count": 5,
   "id": "5ca995cf",
   "metadata": {},
   "outputs": [
    {
     "data": {
      "text/plain": [
       "'int32'"
      ]
     },
     "execution_count": 5,
     "metadata": {},
     "output_type": "execute_result"
    }
   ],
   "source": [
    "a.dtype.name"
   ]
  },
  {
   "cell_type": "code",
   "execution_count": 8,
   "id": "b285ed81",
   "metadata": {},
   "outputs": [
    {
     "data": {
      "text/plain": [
       "4"
      ]
     },
     "execution_count": 8,
     "metadata": {},
     "output_type": "execute_result"
    }
   ],
   "source": [
    "a.itemsize"
   ]
  },
  {
   "cell_type": "code",
   "execution_count": 6,
   "id": "bf16d57d",
   "metadata": {},
   "outputs": [
    {
     "data": {
      "text/plain": [
       "20"
      ]
     },
     "execution_count": 6,
     "metadata": {},
     "output_type": "execute_result"
    }
   ],
   "source": [
    "a.size"
   ]
  },
  {
   "cell_type": "code",
   "execution_count": 7,
   "id": "c7f3b35f",
   "metadata": {},
   "outputs": [
    {
     "data": {
      "text/plain": [
       "numpy.ndarray"
      ]
     },
     "execution_count": 7,
     "metadata": {},
     "output_type": "execute_result"
    }
   ],
   "source": [
    "type(a)"
   ]
  },
  {
   "cell_type": "markdown",
   "id": "57bafc04",
   "metadata": {},
   "source": [
    "There are several ways to create an array in numpy"
   ]
  },
  {
   "cell_type": "code",
   "execution_count": 8,
   "id": "fcafaaa4",
   "metadata": {},
   "outputs": [
    {
     "name": "stdout",
     "output_type": "stream",
     "text": [
      "int32\n",
      "float64\n",
      "int32\n",
      "(2, 4)\n"
     ]
    }
   ],
   "source": [
    "a=np.array([1,2,3,4])\n",
    "print(a.dtype.name)\n",
    "b=np.array([1.1,2.3,4.5,6.8])\n",
    "print(b.dtype.name)\n",
    "c=np.array([(1,2,3,4),(1,2,4,6)])\n",
    "print(c.dtype.name)\n",
    "print(c.shape)"
   ]
  },
  {
   "cell_type": "markdown",
   "id": "2d90600c",
   "metadata": {},
   "source": [
    "We will explore more ways of creating numpy arrays in our next notebook"
   ]
  },
  {
   "cell_type": "code",
   "execution_count": null,
   "id": "e8eedcb4",
   "metadata": {},
   "outputs": [],
   "source": []
  }
 ],
 "metadata": {
  "kernelspec": {
   "display_name": "Python 3",
   "language": "python",
   "name": "python3"
  },
  "language_info": {
   "codemirror_mode": {
    "name": "ipython",
    "version": 3
   },
   "file_extension": ".py",
   "mimetype": "text/x-python",
   "name": "python",
   "nbconvert_exporter": "python",
   "pygments_lexer": "ipython3",
   "version": "3.6.8"
  }
 },
 "nbformat": 4,
 "nbformat_minor": 5
}
