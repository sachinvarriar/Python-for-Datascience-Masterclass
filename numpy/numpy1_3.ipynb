{
 "cells": [
  {
   "cell_type": "markdown",
   "id": "12fa71dc",
   "metadata": {},
   "source": [
    "### Creating arrays from Lists and other Python structures"
   ]
  },
  {
   "cell_type": "code",
   "execution_count": 1,
   "id": "36bbee0e",
   "metadata": {},
   "outputs": [],
   "source": [
    "import numpy as np"
   ]
  },
  {
   "cell_type": "code",
   "execution_count": 2,
   "id": "eea4d6f8",
   "metadata": {},
   "outputs": [],
   "source": [
    "first_list=[1,2,3,4,5,6,7,8,9,10]"
   ]
  },
  {
   "cell_type": "code",
   "execution_count": 3,
   "id": "78236b31",
   "metadata": {},
   "outputs": [
    {
     "data": {
      "text/plain": [
       "[1, 2, 3, 4, 5, 6, 7, 8, 9, 10]"
      ]
     },
     "execution_count": 3,
     "metadata": {},
     "output_type": "execute_result"
    }
   ],
   "source": [
    "first_list"
   ]
  },
  {
   "cell_type": "code",
   "execution_count": 4,
   "id": "565a0f40",
   "metadata": {},
   "outputs": [],
   "source": [
    "first_array=np.array(first_list)"
   ]
  },
  {
   "cell_type": "code",
   "execution_count": 5,
   "id": "a562c106",
   "metadata": {},
   "outputs": [
    {
     "data": {
      "text/plain": [
       "array([ 1,  2,  3,  4,  5,  6,  7,  8,  9, 10])"
      ]
     },
     "execution_count": 5,
     "metadata": {},
     "output_type": "execute_result"
    }
   ],
   "source": [
    "first_array"
   ]
  },
  {
   "cell_type": "code",
   "execution_count": 6,
   "id": "5807d301",
   "metadata": {},
   "outputs": [],
   "source": [
    "second_list=[1,2,3,-1.23,50,128000.56,4.56]"
   ]
  },
  {
   "cell_type": "code",
   "execution_count": 7,
   "id": "c54f4cf7",
   "metadata": {},
   "outputs": [],
   "source": [
    "second_array=np.array(second_list)"
   ]
  },
  {
   "cell_type": "code",
   "execution_count": 8,
   "id": "49881634",
   "metadata": {},
   "outputs": [
    {
     "data": {
      "text/plain": [
       "array([ 1.0000000e+00,  2.0000000e+00,  3.0000000e+00, -1.2300000e+00,\n",
       "        5.0000000e+01,  1.2800056e+05,  4.5600000e+00])"
      ]
     },
     "execution_count": 8,
     "metadata": {},
     "output_type": "execute_result"
    }
   ],
   "source": [
    "second_array"
   ]
  },
  {
   "cell_type": "code",
   "execution_count": 9,
   "id": "1850ff81",
   "metadata": {},
   "outputs": [
    {
     "data": {
      "text/plain": [
       "dtype('float64')"
      ]
     },
     "execution_count": 9,
     "metadata": {},
     "output_type": "execute_result"
    }
   ],
   "source": [
    "second_array.dtype"
   ]
  },
  {
   "cell_type": "code",
   "execution_count": 10,
   "id": "7aea37ef",
   "metadata": {},
   "outputs": [],
   "source": [
    "third_list=['Ann',111111,'Peter',111112,'Susan',111113,'John',111114]\n"
   ]
  },
  {
   "cell_type": "code",
   "execution_count": 11,
   "id": "156ac045",
   "metadata": {},
   "outputs": [],
   "source": [
    "third_array=np.array(third_list)"
   ]
  },
  {
   "cell_type": "code",
   "execution_count": 12,
   "id": "7bc528c7",
   "metadata": {},
   "outputs": [
    {
     "data": {
      "text/plain": [
       "array(['Ann', '111111', 'Peter', '111112', 'Susan', '111113', 'John',\n",
       "       '111114'], dtype='<U6')"
      ]
     },
     "execution_count": 12,
     "metadata": {},
     "output_type": "execute_result"
    }
   ],
   "source": [
    "third_array"
   ]
  },
  {
   "cell_type": "code",
   "execution_count": 13,
   "id": "67304139",
   "metadata": {},
   "outputs": [],
   "source": [
    "first_tuple=(5, 10, 15, 20, 25, 30)\n"
   ]
  },
  {
   "cell_type": "code",
   "execution_count": 14,
   "id": "7a75fa1a",
   "metadata": {},
   "outputs": [],
   "source": [
    "array_from_tuple=np.array(first_tuple)"
   ]
  },
  {
   "cell_type": "code",
   "execution_count": 15,
   "id": "543d16aa",
   "metadata": {},
   "outputs": [
    {
     "data": {
      "text/plain": [
       "array([ 5, 10, 15, 20, 25, 30])"
      ]
     },
     "execution_count": 15,
     "metadata": {},
     "output_type": "execute_result"
    }
   ],
   "source": [
    "array_from_tuple"
   ]
  },
  {
   "cell_type": "code",
   "execution_count": 16,
   "id": "ca3b4ee8",
   "metadata": {},
   "outputs": [
    {
     "data": {
      "text/plain": [
       "dtype('int32')"
      ]
     },
     "execution_count": 16,
     "metadata": {},
     "output_type": "execute_result"
    }
   ],
   "source": [
    "array_from_tuple.dtype"
   ]
  },
  {
   "cell_type": "code",
   "execution_count": 17,
   "id": "b998f060",
   "metadata": {},
   "outputs": [],
   "source": [
    "multi_dim_list=[[[0,1,2], [3,4,5]], [[6,7,8],[9,10,11]]] "
   ]
  },
  {
   "cell_type": "code",
   "execution_count": 18,
   "id": "16c0fbef",
   "metadata": {},
   "outputs": [
    {
     "name": "stdout",
     "output_type": "stream",
     "text": [
      "[[[0, 1, 2], [3, 4, 5]], [[6, 7, 8], [9, 10, 11]]]\n"
     ]
    }
   ],
   "source": [
    "print(multi_dim_list)"
   ]
  },
  {
   "cell_type": "code",
   "execution_count": 19,
   "id": "ad2b1564",
   "metadata": {},
   "outputs": [],
   "source": [
    "arr_from_multi_dim_list=np.array(multi_dim_list)"
   ]
  },
  {
   "cell_type": "code",
   "execution_count": 20,
   "id": "7c5d4db6",
   "metadata": {},
   "outputs": [
    {
     "data": {
      "text/plain": [
       "array([[[ 0,  1,  2],\n",
       "        [ 3,  4,  5]],\n",
       "\n",
       "       [[ 6,  7,  8],\n",
       "        [ 9, 10, 11]]])"
      ]
     },
     "execution_count": 20,
     "metadata": {},
     "output_type": "execute_result"
    }
   ],
   "source": [
    "arr_from_multi_dim_list"
   ]
  },
  {
   "cell_type": "code",
   "execution_count": 22,
   "id": "d1199f99",
   "metadata": {},
   "outputs": [],
   "source": [
    "multi_dim_list=[[[0,1,2], [3,4,5]], [[6,7,8]]]"
   ]
  },
  {
   "cell_type": "code",
   "execution_count": 23,
   "id": "39dcb5be",
   "metadata": {},
   "outputs": [
    {
     "name": "stdout",
     "output_type": "stream",
     "text": [
      "[[[0, 1, 2], [3, 4, 5]], [[6, 7, 8]]]\n"
     ]
    }
   ],
   "source": [
    "print(multi_dim_list)"
   ]
  },
  {
   "cell_type": "code",
   "execution_count": 24,
   "id": "1e35d6da",
   "metadata": {},
   "outputs": [
    {
     "name": "stderr",
     "output_type": "stream",
     "text": [
      "C:\\Users\\sachi\\AppData\\Local\\Programs\\Python\\Python36\\lib\\site-packages\\ipykernel_launcher.py:1: VisibleDeprecationWarning: Creating an ndarray from ragged nested sequences (which is a list-or-tuple of lists-or-tuples-or ndarrays with different lengths or shapes) is deprecated. If you meant to do this, you must specify 'dtype=object' when creating the ndarray\n",
      "  \"\"\"Entry point for launching an IPython kernel.\n"
     ]
    },
    {
     "data": {
      "text/plain": [
       "array([list([[0, 1, 2], [3, 4, 5]]), list([[6, 7, 8]])], dtype=object)"
      ]
     },
     "execution_count": 24,
     "metadata": {},
     "output_type": "execute_result"
    }
   ],
   "source": [
    "np.array(multi_dim_list)"
   ]
  },
  {
   "cell_type": "code",
   "execution_count": null,
   "id": "f7435923",
   "metadata": {},
   "outputs": [],
   "source": []
  }
 ],
 "metadata": {
  "kernelspec": {
   "display_name": "Python 3",
   "language": "python",
   "name": "python3"
  },
  "language_info": {
   "codemirror_mode": {
    "name": "ipython",
    "version": 3
   },
   "file_extension": ".py",
   "mimetype": "text/x-python",
   "name": "python",
   "nbconvert_exporter": "python",
   "pygments_lexer": "ipython3",
   "version": "3.6.8"
  }
 },
 "nbformat": 4,
 "nbformat_minor": 5
}
